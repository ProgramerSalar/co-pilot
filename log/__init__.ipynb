{
 "cells": [
  {
   "cell_type": "code",
   "execution_count": 1,
   "metadata": {},
   "outputs": [
    {
     "ename": "ModuleNotFoundError",
     "evalue": "No module named 'config'",
     "output_type": "error",
     "traceback": [
      "\u001b[1;31m---------------------------------------------------------------------------\u001b[0m",
      "\u001b[1;31mModuleNotFoundError\u001b[0m                       Traceback (most recent call last)",
      "Cell \u001b[1;32mIn[1], line 2\u001b[0m\n\u001b[0;32m      1\u001b[0m \u001b[38;5;28;01mfrom\u001b[39;00m \u001b[38;5;21;01mlogging\u001b[39;00m \u001b[38;5;28;01mimport\u001b[39;00m FileHandler, Formatter, Logger, StreamHandler, getLogger\n\u001b[1;32m----> 2\u001b[0m \u001b[38;5;28;01mfrom\u001b[39;00m \u001b[38;5;21;01mconfig\u001b[39;00m \u001b[38;5;28;01mimport\u001b[39;00m LogConfig\n",
      "\u001b[1;31mModuleNotFoundError\u001b[0m: No module named 'config'"
     ]
    }
   ],
   "source": [
    "from logging import FileHandler, Formatter, Logger, StreamHandler, getLogger\n",
    "from config import LogConfig"
   ]
  },
  {
   "cell_type": "code",
   "execution_count": 3,
   "metadata": {},
   "outputs": [
    {
     "ename": "NameError",
     "evalue": "name 'LogConfig' is not defined",
     "output_type": "error",
     "traceback": [
      "\u001b[1;31m---------------------------------------------------------------------------\u001b[0m",
      "\u001b[1;31mNameError\u001b[0m                                 Traceback (most recent call last)",
      "Cell \u001b[1;32mIn[3], line 1\u001b[0m\n\u001b[1;32m----> 1\u001b[0m \u001b[38;5;28;01mdef\u001b[39;00m \u001b[38;5;21msetup\u001b[39m(config: \u001b[43mLogConfig\u001b[49m, \n\u001b[0;32m      2\u001b[0m           force: \u001b[38;5;28mbool\u001b[39m \u001b[38;5;241m=\u001b[39m \u001b[38;5;28;01mFalse\u001b[39;00m):\n\u001b[0;32m      4\u001b[0m \u001b[38;5;250m    \u001b[39m\u001b[38;5;124;03m\"\"\" \u001b[39;00m\n\u001b[0;32m      5\u001b[0m \u001b[38;5;124;03m    Set up logging based on the current configuration.\u001b[39;00m\n\u001b[0;32m      6\u001b[0m \n\u001b[0;32m      7\u001b[0m \u001b[38;5;124;03m    The method is ideampotent unless `force` is set to True,\u001b[39;00m\n\u001b[0;32m      8\u001b[0m \u001b[38;5;124;03m    is which case it will reconfigure is logging.\u001b[39;00m\n\u001b[0;32m      9\u001b[0m \u001b[38;5;124;03m    \"\"\"\u001b[39;00m\n\u001b[0;32m     11\u001b[0m     root \u001b[38;5;241m=\u001b[39m getLogger()\n",
      "\u001b[1;31mNameError\u001b[0m: name 'LogConfig' is not defined"
     ]
    }
   ],
   "source": [
    "def setup(config: LogConfig, \n",
    "          force: bool = False):\n",
    "    \n",
    "    \"\"\" \n",
    "    Set up logging based on the current configuration.\n",
    "\n",
    "    The method is ideampotent unless `force` is set to True,\n",
    "    is which case it will reconfigure is logging.\n",
    "    \"\"\"\n",
    "\n",
    "    root = getLogger()\n",
    "    logger = getLogger(\"core\")\n",
    "\n",
    "    # Only clear/remove existing log handlers if we are forcing a new setup \n",
    "    if not force and (root.handlers or logger.handlers):\n",
    "        return\n",
    "    \n",
    "\n",
    "    while force and root.handlers:\n",
    "        root.removeHandler(root.handlers[0])\n",
    "\n",
    "\n",
    "    while force and logger.handlers:\n",
    "        logger.removeHandler(logger.handlers[0])\n",
    "\n",
    "\n",
    "    level = config.level \n",
    "    formatter = Formatter(config.format)\n",
    "\n",
    "    if config.output:\n",
    "        handler = FileHandler(config.output, \n",
    "                              encoding=\"utf-8\")\n",
    "        \n",
    "    else:\n",
    "        handler = StreamHandler()\n",
    "\n",
    "\n",
    "\n",
    "    handler.setFormatter(formatter)\n",
    "    logger.setLevel(level)\n",
    "\n",
    "\n",
    "    handler.setLevel(level)\n",
    "    logger.addHandler(handler)\n",
    "\n",
    "\n",
    "\n",
    "\n",
    "\n"
   ]
  },
  {
   "cell_type": "code",
   "execution_count": 5,
   "metadata": {},
   "outputs": [],
   "source": [
    "def get_logger(name) -> Logger:\n",
    "\n",
    "    \"\"\" \n",
    "    Get log function for a given (module) name \n",
    "\n",
    "    :return: Logger instance\n",
    "    \"\"\"\n",
    "\n",
    "    return getLogger(name)\n",
    "\n",
    "\n",
    "__all__ = [\"setup\", \"get_logger\"]"
   ]
  },
  {
   "cell_type": "code",
   "execution_count": null,
   "metadata": {},
   "outputs": [],
   "source": []
  }
 ],
 "metadata": {
  "kernelspec": {
   "display_name": "Python 3",
   "language": "python",
   "name": "python3"
  },
  "language_info": {
   "codemirror_mode": {
    "name": "ipython",
    "version": 3
   },
   "file_extension": ".py",
   "mimetype": "text/x-python",
   "name": "python",
   "nbconvert_exporter": "python",
   "pygments_lexer": "ipython3",
   "version": "3.12.0b4"
  }
 },
 "nbformat": 4,
 "nbformat_minor": 2
}
