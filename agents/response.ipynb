{
 "cells": [
  {
   "cell_type": "code",
   "execution_count": 3,
   "metadata": {},
   "outputs": [
    {
     "ename": "ModuleNotFoundError",
     "evalue": "No module named 'log'",
     "output_type": "error",
     "traceback": [
      "\u001b[1;31m---------------------------------------------------------------------------\u001b[0m",
      "\u001b[1;31mModuleNotFoundError\u001b[0m                       Traceback (most recent call last)",
      "Cell \u001b[1;32mIn[3], line 3\u001b[0m\n\u001b[0;32m      1\u001b[0m \u001b[38;5;28;01mfrom\u001b[39;00m \u001b[38;5;21;01menum\u001b[39;00m \u001b[38;5;28;01mimport\u001b[39;00m Enum\n\u001b[0;32m      2\u001b[0m \u001b[38;5;28;01mfrom\u001b[39;00m \u001b[38;5;21;01mtyping\u001b[39;00m \u001b[38;5;28;01mimport\u001b[39;00m TYPE_CHECKING, Optional\n\u001b[1;32m----> 3\u001b[0m \u001b[38;5;28;01mfrom\u001b[39;00m \u001b[38;5;21;01mlog\u001b[39;00m \u001b[38;5;28;01mimport\u001b[39;00m get_logger\n",
      "\u001b[1;31mModuleNotFoundError\u001b[0m: No module named 'log'"
     ]
    }
   ],
   "source": [
    "from enum import Enum\n",
    "from typing import TYPE_CHECKING, Optional\n",
    "from log import get_logger"
   ]
  },
  {
   "cell_type": "code",
   "execution_count": 4,
   "metadata": {},
   "outputs": [],
   "source": [
    "if TYPE_CHECKING:\n",
    "    from core.agents.base import BaseAgent \n",
    "    from core.agents.error_handler import ErrorHandler "
   ]
  },
  {
   "cell_type": "code",
   "execution_count": 5,
   "metadata": {},
   "outputs": [
    {
     "ename": "NameError",
     "evalue": "name 'get_logger' is not defined",
     "output_type": "error",
     "traceback": [
      "\u001b[1;31m---------------------------------------------------------------------------\u001b[0m",
      "\u001b[1;31mNameError\u001b[0m                                 Traceback (most recent call last)",
      "Cell \u001b[1;32mIn[5], line 1\u001b[0m\n\u001b[1;32m----> 1\u001b[0m log \u001b[38;5;241m=\u001b[39m \u001b[43mget_logger\u001b[49m(\u001b[38;5;18m__name__\u001b[39m)\n",
      "\u001b[1;31mNameError\u001b[0m: name 'get_logger' is not defined"
     ]
    }
   ],
   "source": [
    "log = get_logger(__name__)"
   ]
  },
  {
   "cell_type": "code",
   "execution_count": 7,
   "metadata": {},
   "outputs": [],
   "source": [
    "class ResponseType(str, Enum):\n",
    "\n",
    "    DONE = \"done\"\n",
    "    \"\"\"Agent has finished processing.\"\"\"\n",
    "\n",
    "\n",
    "    ERROR = \"error\"\n",
    "    \"\"\"There was an error processing the request.\"\"\"\n",
    "\n",
    "    CANCEL = \"cancel\"\n",
    "    \"\"\"User explicity cancelled the operations.\"\"\"\n",
    "\n",
    "\n",
    "    EXIT = \"exit\"\n",
    "    \"\"\"Pythagora should exist.\"\"\"\n",
    "\n",
    "\n",
    "    DESCRIBE_FILES = \"describe-files\"\n",
    "    \"\"\"Analysis of the files in the project is requestd.\"\"\"\n",
    "\n",
    "\n",
    "    INPUT_REQUEST = \"input-requested\"\n",
    "    \"\"\"User needs to modify a line in the generated code. \"\"\"\n",
    "\n",
    "\n",
    "    IMPORT_PROJECT = \"import-project\"\n",
    "    \"\"\"User wants to import an existing project.\"\"\"\n",
    "\n",
    "\n",
    "\n",
    "    EXTERNAL_DOCS_REQUEST = \"external-docs-required\"\n",
    "    \"\"\"we need to fetch externel docs for a task.\"\"\"\n",
    "\n",
    "    \n",
    "    UPDATE_SPECIFICATION = \"update-specification\"\n",
    "    \"\"\"we need to update the project specification.\"\"\"\n",
    "\n",
    "\n"
   ]
  },
  {
   "cell_type": "code",
   "execution_count": 9,
   "metadata": {},
   "outputs": [],
   "source": [
    "class AgentResponse:\n",
    "\n",
    "    type: ResponseType = ResponseType.DONE\n",
    "    agent: \"BaseAgent\"\n",
    "    data: Optional[dict]\n",
    "\n",
    "\n",
    "    def __init__(self,\n",
    "                 type: ResponseType,\n",
    "                 agent: \"BaseAgent\",\n",
    "                 data: Optional[dict] = None \n",
    "                 ) -> None:\n",
    "        \n",
    "        self.type = type\n",
    "        self.agent = agent\n",
    "        self.data = data\n",
    "\n",
    "\n",
    "\n",
    "    def __repr__(self) -> str:\n",
    "        return f\"<AgentResponse type={self.type} agent={self.agent}>\"\n",
    "    \n",
    "\n",
    "    @staticmethod\n",
    "    def done(agent: \"BaseAgent\") -> \"AgentResponse\":\n",
    "        return AgentResponse(type=ResponseType.DONE,\n",
    "                             agent=agent)\n",
    "    \n",
    "\n",
    "\n",
    "\n",
    "    @staticmethod\n",
    "    def error(agent: \"BaseAgent\",\n",
    "              message:str,\n",
    "              details: Optional[dict] = None) -> \"AgentResponse\":\n",
    "        \n",
    "        return AgentResponse(\n",
    "            type=ResponseType.ERROR,\n",
    "            agent=agent,\n",
    "            data = {\"message\": message,\n",
    "                    \"datails\": details}\n",
    "        )\n",
    "    \n",
    "\n",
    "\n",
    "    @staticmethod\n",
    "    def cancel(agent: \"BaseAgent\") -> \"AgentResponse\":\n",
    "        return AgentResponse(type=ResponseType.CANCEL, agent=agent)\n",
    "    \n",
    "\n",
    "    @staticmethod\n",
    "    def exit(agent: \"ErrorHandler\") -> \"AgentResponse\":\n",
    "        return AgentResponse(type=ResponseType.EXIT,\n",
    "                             agent=agent)\n",
    "    \n",
    "\n",
    "\n",
    "    @staticmethod\n",
    "    def describe_files(agent: \"BaseAgent\") -> \"AgentResponse\":\n",
    "        return AgentResponse(type=ResponseType.DESCRIBE_FILES, agent=agent)\n",
    "    \n",
    "\n",
    "    @staticmethod\n",
    "    def input_required(agent: \"BaseAgent\",\n",
    "                       files: list[dict[str, int]]) -> \"AgentResponse\":\n",
    "        return AgentResponse(type=ResponseType.INPUT_REQUEST,\n",
    "                             agent=agent,\n",
    "                             data = {\"files\": files}\n",
    "                             )\n",
    "    \n",
    "\n",
    "    @staticmethod\n",
    "    def import_project(agent: \"BaseAgent\") -> \"AgentResponse\":\n",
    "        return AgentResponse(type=ResponseType.IMPORT_PROJECT,\n",
    "                             agent=agent)\n",
    "    \n",
    "\n",
    "    @staticmethod\n",
    "    def external_docs_required(agent: \"BaseAgent\") -> \"AgentResponse\":\n",
    "        return AgentResponse(type=ResponseType.IMPORT_PROJECT,\n",
    "                             agent=agent)\n",
    "    \n",
    "\n",
    "    @staticmethod\n",
    "    def update_specification(agent: \"BaseAgent\",\n",
    "                             description: str) -> \"AgentResponse\":\n",
    "        \n",
    "        return AgentResponse(\n",
    "            type=ResponseType.UPDATE_SPECIFICATION,\n",
    "            agent=agent,\n",
    "            data= {\n",
    "                \"description\": description\n",
    "            }\n",
    "        )\n",
    "\n"
   ]
  },
  {
   "cell_type": "code",
   "execution_count": null,
   "metadata": {},
   "outputs": [],
   "source": []
  }
 ],
 "metadata": {
  "kernelspec": {
   "display_name": "Python 3",
   "language": "python",
   "name": "python3"
  },
  "language_info": {
   "codemirror_mode": {
    "name": "ipython",
    "version": 3
   },
   "file_extension": ".py",
   "mimetype": "text/x-python",
   "name": "python",
   "nbconvert_exporter": "python",
   "pygments_lexer": "ipython3",
   "version": "3.12.0b4"
  }
 },
 "nbformat": 4,
 "nbformat_minor": 2
}
